{
 "cells": [
  {
   "cell_type": "code",
   "execution_count": 26,
   "metadata": {},
   "outputs": [],
   "source": [
    "import joblib\n",
    "import mediapipe as mp\n",
    "import numpy as np"
   ]
  },
  {
   "cell_type": "code",
   "execution_count": 27,
   "metadata": {},
   "outputs": [],
   "source": [
    "model_classifier = joblib.load('./model/image_classifier.joblib')\n",
    "handmark_model = './model/hand_landmarker.task'"
   ]
  },
  {
   "cell_type": "code",
   "execution_count": 30,
   "metadata": {},
   "outputs": [
    {
     "name": "stdout",
     "output_type": "stream",
     "text": [
      "[[Category(index=0, score=0.9947464466094971, display_name='Right', category_name='Right')]]\n",
      "[NormalizedLandmark(x=0.13634857535362244, y=0.7372133135795593, z=-2.4638416107336525e-07, visibility=0.0, presence=0.0), NormalizedLandmark(x=0.20616799592971802, y=0.7002063989639282, z=-0.030045725405216217, visibility=0.0, presence=0.0), NormalizedLandmark(x=0.27952271699905396, y=0.6434097290039062, z=-0.04212350770831108, visibility=0.0, presence=0.0), NormalizedLandmark(x=0.308297723531723, y=0.5679520964622498, z=-0.049462541937828064, visibility=0.0, presence=0.0), NormalizedLandmark(x=0.2806132733821869, y=0.5113927721977234, z=-0.04931259900331497, visibility=0.0, presence=0.0), NormalizedLandmark(x=0.25294309854507446, y=0.5392007231712341, z=-0.023443877696990967, visibility=0.0, presence=0.0), NormalizedLandmark(x=0.26052775979042053, y=0.49314257502555847, z=-0.053716741502285004, visibility=0.0, presence=0.0), NormalizedLandmark(x=0.23871468007564545, y=0.5705214738845825, z=-0.07189162075519562, visibility=0.0, presence=0.0), NormalizedLandmark(x=0.23511415719985962, y=0.5766966342926025, z=-0.08340097218751907, visibility=0.0, presence=0.0), NormalizedLandmark(x=0.20082879066467285, y=0.5306981801986694, z=-0.019698964431881905, visibility=0.0, presence=0.0), NormalizedLandmark(x=0.2057732343673706, y=0.4877147972583771, z=-0.04539433494210243, visibility=0.0, presence=0.0), NormalizedLandmark(x=0.1956019401550293, y=0.5843900442123413, z=-0.05198704078793526, visibility=0.0, presence=0.0), NormalizedLandmark(x=0.20461808145046234, y=0.5771814584732056, z=-0.05719442665576935, visibility=0.0, presence=0.0), NormalizedLandmark(x=0.1534699648618698, y=0.5347728729248047, z=-0.020297452807426453, visibility=0.0, presence=0.0), NormalizedLandmark(x=0.1573631763458252, y=0.4954302906990051, z=-0.045202892273664474, visibility=0.0, presence=0.0), NormalizedLandmark(x=0.1547313779592514, y=0.5797852277755737, z=-0.03352541849017143, visibility=0.0, presence=0.0), NormalizedLandmark(x=0.1614006757736206, y=0.5779691338539124, z=-0.024982167407870293, visibility=0.0, presence=0.0), NormalizedLandmark(x=0.10927970707416534, y=0.5352010130882263, z=-0.023431239649653435, visibility=0.0, presence=0.0), NormalizedLandmark(x=0.10879510641098022, y=0.5150317549705505, z=-0.03312552347779274, visibility=0.0, presence=0.0), NormalizedLandmark(x=0.11307434737682343, y=0.565355122089386, z=-0.020530985668301582, visibility=0.0, presence=0.0), NormalizedLandmark(x=0.11695194244384766, y=0.5681059956550598, z=-0.011943900026381016, visibility=0.0, presence=0.0)]\n",
      "21\n"
     ]
    }
   ],
   "source": [
    "BaseOptions = mp.tasks.BaseOptions\n",
    "HandLandmarker = mp.tasks.vision.HandLandmarker\n",
    "HandLandmarkerOptions = mp.tasks.vision.HandLandmarkerOptions\n",
    "VisionRunningMode = mp.tasks.vision.RunningMode\n",
    "\n",
    "options = HandLandmarkerOptions(\n",
    "    base_options=BaseOptions(model_asset_path=handmark_model),\n",
    "    running_mode=VisionRunningMode.IMAGE)\n",
    "\n",
    "with HandLandmarker.create_from_options(options) as landmarker:\n",
    "    mp_image = mp.Image.create_from_file('./data/0/1.jpg')\n",
    "    hand_landmarker_result = landmarker.detect(mp_image)\n",
    "    print(hand_landmarker_result.handedness)\n",
    "    print(hand_landmarker_result.hand_landmarks[0])\n",
    "    print(len(hand_landmarker_result.hand_world_landmarks[0]))"
   ]
  },
  {
   "cell_type": "code",
   "execution_count": 31,
   "metadata": {},
   "outputs": [
    {
     "name": "stdout",
     "output_type": "stream",
     "text": [
      "['0']\n"
     ]
    }
   ],
   "source": [
    "img_to_array = np.array([(landmark.x, landmark.y, landmark.z) for landmark in hand_landmarker_result.hand_landmarks[0]]).flatten().reshape(1, -1)\n",
    "# print(img_to_array)\n",
    "result = model_classifier.predict(img_to_array)\n",
    "print(result)"
   ]
  }
 ],
 "metadata": {
  "kernelspec": {
   "display_name": "cv_env",
   "language": "python",
   "name": "python3"
  },
  "language_info": {
   "codemirror_mode": {
    "name": "ipython",
    "version": 3
   },
   "file_extension": ".py",
   "mimetype": "text/x-python",
   "name": "python",
   "nbconvert_exporter": "python",
   "pygments_lexer": "ipython3",
   "version": "3.10.8"
  }
 },
 "nbformat": 4,
 "nbformat_minor": 2
}
